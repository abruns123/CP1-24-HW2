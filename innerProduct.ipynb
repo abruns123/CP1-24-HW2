{
 "cells": [
  {
   "cell_type": "markdown",
   "metadata": {},
   "source": [
    "## Inner Product Calculated by Loop"
   ]
  },
  {
   "cell_type": "code",
   "execution_count": 1,
   "metadata": {},
   "outputs": [],
   "source": [
    "\n",
    "import time\n",
    "import numpy as np\n",
    "def loopInnerProduct(v1,v2):\n",
    "    \"\"\"loopInnerProduct takes the inner product of v1,v2 using a loop\"\"\"\n",
    "    \"\"\"v1 and v2 are vectors\"\"\"\n",
    "    \"\"\"Returns the result of the inner product and the time taken by the loop \"\"\"\n",
    "    start=time.perf_counter() #Start marks the start time of the loop function\n",
    "\n",
    "    #This section ensures the vectors are of equal length to prevent errors in the loop\n",
    "\n",
    "    diff=len(v1)-len(v2) #diff is the difference in length between the two vectors\n",
    "\n",
    "    #If the length of v1 is greater than that of v2, then zeros are appended to v2 until they are of the same length\n",
    "    if diff>0:\n",
    "        for i in range(diff):\n",
    "            v2.append(0)\n",
    "\n",
    "    #If the length of v2 is greater than that of v1, then zeros are appended to v1 until they are of the same length\n",
    "    elif diff<0:\n",
    "        for i in range(-diff):\n",
    "            v1.append(0)\n",
    "    \n",
    "    #If diff is zero, nothing needs to be done\n",
    "\n",
    "    sum=0 # sum is declared as zero such that it can be added to.\n",
    "\n",
    "    #As both vectors are of the same length, it loops through the length of v1, adding the product of conjugate v1[i] and v2[i] to the sum for each element.\n",
    "    for i in range(len(v1)): \n",
    "        sum+=(v1[i].conjugate()*v2[i])\n",
    "\n",
    "    end=time.perf_counter() #end marks the end time of the loop\n",
    "\n",
    "    t=end-start #end-start=t is the total time the loop takes\n",
    "\n",
    "    return sum,t #Returns the inner product and the time it took for the loop to run\n"
   ]
  },
  {
   "cell_type": "markdown",
   "metadata": {},
   "source": [
    "## Inner Product Calculated by numpy.vdot()"
   ]
  },
  {
   "cell_type": "code",
   "execution_count": 10,
   "metadata": {},
   "outputs": [
    {
     "ename": "NameError",
     "evalue": "name 'np' is not defined",
     "output_type": "error",
     "traceback": [
      "\u001b[0;31m---------------------------------------------------------------------------\u001b[0m",
      "\u001b[0;31mNameError\u001b[0m                                 Traceback (most recent call last)",
      "Cell \u001b[0;32mIn[10], line 15\u001b[0m\n\u001b[1;32m     11\u001b[0m     t\u001b[38;5;241m=\u001b[39mend\u001b[38;5;241m-\u001b[39mstart \u001b[38;5;66;03m#end-start=t is the total time that vdot takes\u001b[39;00m\n\u001b[1;32m     13\u001b[0m     \u001b[38;5;28;01mreturn\u001b[39;00m x,t \u001b[38;5;66;03m#The inner product and the time vdot took are returned\u001b[39;00m\n\u001b[0;32m---> 15\u001b[0m \u001b[38;5;28mprint\u001b[39m(\u001b[43mnpInnerProduct\u001b[49m\u001b[43m(\u001b[49m\u001b[43m[\u001b[49m\u001b[38;5;241;43m1\u001b[39;49m\u001b[43m]\u001b[49m\u001b[43m,\u001b[49m\u001b[43m[\u001b[49m\u001b[38;5;241;43m1\u001b[39;49m\u001b[43m]\u001b[49m\u001b[43m)\u001b[49m)\n",
      "Cell \u001b[0;32mIn[10], line 7\u001b[0m, in \u001b[0;36mnpInnerProduct\u001b[0;34m(v1, v2)\u001b[0m\n\u001b[1;32m      3\u001b[0m \u001b[38;5;28;01mdef\u001b[39;00m \u001b[38;5;21mnpInnerProduct\u001b[39m(v1,v2):\n\u001b[1;32m      5\u001b[0m     start\u001b[38;5;241m=\u001b[39mtime\u001b[38;5;241m.\u001b[39mperf_counter() \u001b[38;5;66;03m#start marks the start time of the vdot function\u001b[39;00m\n\u001b[0;32m----> 7\u001b[0m     x\u001b[38;5;241m=\u001b[39m\u001b[43mnp\u001b[49m\u001b[38;5;241m.\u001b[39mvdot(v1,v2) \u001b[38;5;66;03m#x is the inner product calculated from vdot\u001b[39;00m\n\u001b[1;32m      9\u001b[0m     end\u001b[38;5;241m=\u001b[39mtime\u001b[38;5;241m.\u001b[39mperf_counter() \u001b[38;5;66;03m#end marks the end time of the vdot function\u001b[39;00m\n\u001b[1;32m     11\u001b[0m     t\u001b[38;5;241m=\u001b[39mend\u001b[38;5;241m-\u001b[39mstart \u001b[38;5;66;03m#end-start=t is the total time that vdot takes\u001b[39;00m\n",
      "\u001b[0;31mNameError\u001b[0m: name 'np' is not defined"
     ]
    }
   ],
   "source": [
    "import time\n",
    "import numpy as np\n",
    "#This function takes the inner product using the numpy vdot function\n",
    "def npInnerProduct(v1,v2):\n",
    "    \"\"\"npInnerProduct takes the inner product of v1,v2 using a np.vdot()\"\"\"\n",
    "    \"\"\"v1 and v2 are vectors\"\"\"\n",
    "    \"\"\"Returns the result of the inner product and the time taken by the np.vdot \"\"\"\n",
    "    start=time.perf_counter() #start marks the start time of the vdot function\n",
    "\n",
    "    x=np.vdot(v1,v2) #x is the inner product calculated from vdot\n",
    "\n",
    "    end=time.perf_counter() #end marks the end time of the vdot function\n",
    "\n",
    "    t=end-start #end-start=t is the total time that vdot takes\n",
    "\n",
    "    return x,t #The inner product and the time vdot took are returned\n"
   ]
  },
  {
   "cell_type": "markdown",
   "metadata": {},
   "source": [
    "## Inner Product calculated by np.einsum()"
   ]
  },
  {
   "cell_type": "code",
   "execution_count": 3,
   "metadata": {},
   "outputs": [],
   "source": [
    "import time\n",
    "import numpy as np\n",
    "\n",
    "def einSum(v1,v2):\n",
    "    \"\"\"einSum takes the inner product of v1,v2 using a np.einsum()\"\"\"\n",
    "    \"\"\"v1 and v2 are vectors\"\"\"\n",
    "    \"\"\"Returns the result of the inner product and the time taken by the np.einsum \"\"\"\n",
    "    start=time.perf_counter() #start marks the start time of the vdot function\n",
    "\n",
    "    x=np.einsum(\"i,i\", v1,v2)\n",
    "\n",
    "    end=time.perf_counter() #end-start=t is the total time that vdot takes\n",
    "\n",
    "    t=end-start #end-start=t is the total time that vdot takes\n",
    "\n",
    "    return x,t #The inner product and the time vdot took are returned"
   ]
  },
  {
   "cell_type": "markdown",
   "metadata": {},
   "source": [
    "## Result"
   ]
  },
  {
   "cell_type": "code",
   "execution_count": 43,
   "metadata": {},
   "outputs": [
    {
     "name": "stdout",
     "output_type": "stream",
     "text": [
      "The inner product in this case is -3j.\n",
      "The time it took for a loop to calculate the inner product is 6.0720003602909856e-06 seconds.\n",
      "The time it took for the numpy vdot function to calculate the inner product is 2.5907999770424794e-05 seconds.\n",
      "The time it took for the numpy einsum function to calculate the inner product is 2.414499977021478e-05 seconds.\n",
      "Now, taking average times for inner product of two vectors with length 1000000 :\n",
      "The average time taken by the loop is 0.1216516825000781 seconds.\n",
      "The average time taken by np.vdot is 0.1711132349998934 seconds.\n",
      "The average time taken by the np.einsum is 0.07911324430001514 seconds.\n"
     ]
    }
   ],
   "source": [
    "from pVectorGenerator import vectorGen\n",
    "import numpy as np\n",
    "#Two random vectors are generated from the vectorGen function\n",
    "\n",
    "v1=vectorGen(10,-1,1,50)\n",
    "v2=vectorGen(10,-1,1,50)\n",
    "\n",
    "#Product is the inner product of the two vectors, theTime 1-3 are the different times it takes for the respective methods to get the inner product\n",
    "product,theTime1=loopInnerProduct(v1,v2)\n",
    "product,theTime2=npInnerProduct(v1,v2)\n",
    "\n",
    "#This loop loops though v1 and takes the conjugates of all elements before einSum function is used. As of now, I'm unsure how to make einsum take conjugates on its own as the vdot function would. \n",
    "v1=np.conjugate(v1)\n",
    "\n",
    "product,theTime3=einSum(v1,v2) \n",
    "\n",
    "#The inner product and the times that each method took are printed out here. \n",
    "print('The inner product in this case is '+str(product)+\".\\nThe time it took for a loop to calculate the inner product is \"+str(theTime1)+\" seconds.\\nThe time it took for the numpy vdot function to calculate the inner product is \"+str(theTime2)+\" seconds.\\nThe time it took for the numpy einsum function to calculate the inner product is \"+str(theTime3)+\" seconds.\")\n",
    "\n",
    "#Sums are declared such that I can take average times of the functions.\n",
    "sum1=0\n",
    "sum2=0\n",
    "sum3=0\n",
    "\n",
    "n=1000000 #n defines the length of the vectors\n",
    "\n",
    "num=10 #num defines the number over which the times are averaged.\n",
    "\n",
    "#This loop calculates the times taken by the functions num times and sums them.\n",
    "for i in range(num):\n",
    "    v1=vectorGen(n,-1,1,50)\n",
    "    v2=vectorGen(n,-1,1,50)\n",
    "    sum1+=(loopInnerProduct(v1,v2)[1])\n",
    "    sum2+=(npInnerProduct(v1,v2)[1])\n",
    "    v1=np.conjugate(v1)\n",
    "    sum3+=(einSum(v1,v2)[1])\n",
    "\n",
    "#The average times are printed out.\n",
    "print(\"Now, taking average times for inner product of two vectors with length\",n,\":\")\n",
    "print(\"The average time taken by the loop is\",sum1/num,\"seconds.\")\n",
    "print(\"The average time taken by np.vdot is\",sum2/num,\"seconds.\")\n",
    "print(\"The average time taken by the np.einsum is\",sum3/num,\"seconds.\")\n"
   ]
  },
  {
   "cell_type": "markdown",
   "metadata": {},
   "source": [
    "## Analysis\n",
    "\n",
    "When $n=2$ and $num=1000$, comparing the average times taken, the loop appears to be fastest, vdot is second fastest, and einsum is the slowest.\n",
    "When $n=1000$ and $num=1000$, comparing the average times taken, the loop appears to be the second fastest, vdot is slowest, and einsum is the fastest.\n",
    "When $n=1000000$ and $num=10$, comparing the average times taken, the loop appears to be fastest, vdot is second fastest, and einsum is the slowest.\n",
    "\n",
    "With this, it is clear that for small vectors, loops are the most effective while einsum becomes more effective for very large vectors. \n"
   ]
  }
 ],
 "metadata": {
  "kernelspec": {
   "display_name": "Python 3",
   "language": "python",
   "name": "python3"
  },
  "language_info": {
   "codemirror_mode": {
    "name": "ipython",
    "version": 3
   },
   "file_extension": ".py",
   "mimetype": "text/x-python",
   "name": "python",
   "nbconvert_exporter": "python",
   "pygments_lexer": "ipython3",
   "version": "3.12.1"
  }
 },
 "nbformat": 4,
 "nbformat_minor": 2
}
