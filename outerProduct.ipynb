{
 "cells": [
  {
   "cell_type": "code",
   "execution_count": 1,
   "metadata": {},
   "outputs": [
    {
     "name": "stdout",
     "output_type": "stream",
     "text": [
      "[3j, 6j, (-0-7j), -7, 1j]\n",
      "13.022598311000024 seconds\n",
      "0.5093488969999953 seconds\n",
      "0.6008807200000774 seconds\n"
     ]
    }
   ],
   "source": [
    "from pVectorGenerator import vectorGen\n",
    "import numpy as np\n",
    "import time\n",
    "\n",
    "#This function uses a loop to determine the outer product of v1 and v2 and the time the loop takes\n",
    "def loopOuterProduct(v1,v2):\n",
    "\n",
    "    m=[] #m is declared as a list. It will have other lists appended to it such that it becomes a matrix\n",
    "\n",
    "    start=time.perf_counter() #Start is the initial time at which the loop starts\n",
    "\n",
    "    #This loop goes through the length of v1, producing a new row of the matrix each time. \n",
    "    for i in range(len(v1)):\n",
    "        m.append([])\n",
    "\n",
    "        #This nested loop goes through the length of v2, producing len(v2) elements defined by v1[i]*v2[j] \n",
    "        for j in range(len(v2)):\n",
    "            m[i].append(v1[i]*v2[j])\n",
    "\n",
    "    end=time.perf_counter() #End is the time at which the loop finishes. \n",
    "\n",
    "    t=end-start #t=end-start is the total time it takes for the loop to run\n",
    "\n",
    "    return m, t #The matrix and the time taken are returned. \n",
    "\n",
    "#This function takes the outer product using the np.outer function and times it. \n",
    "def npOuterProduct(v1,v2):\n",
    "\n",
    "    start=time.perf_counter()#Start is the initial time at which the function starts\n",
    "\n",
    "    x=np.outer(v1,v2) #x is the matrix produced by np.outer\n",
    "\n",
    "    end=time.perf_counter() #End is the time at which the loop finishes. \n",
    "\n",
    "    t=end-start #t=end-start is the total time it takes for the loop to run\n",
    "\n",
    "    return x,t #The outer product and the time taken to calculate are returned. \n",
    "\n",
    "#This function takes the outer product using the einsum function and times it. \n",
    "def einSum(v1,v2):\n",
    "\n",
    "    start=time.perf_counter() #Start is the initial time at which the function starts\n",
    "\n",
    "    x=np.einsum(\"i,j\", v1,v2) #x is the matrix produced by np.einsum\n",
    "\n",
    "    end=time.perf_counter() #End is the time at which the loop finishes. \n",
    "\n",
    "    t=end-start #t=end-start is the total time it takes for the loop to run\n",
    "\n",
    "    return x,t #The outer product and the time taken to calculate are returned. \n",
    "\n",
    "#Two vectors are produced by vectorGen such that the outer product of them may be taken\n",
    "v1=vectorGen(10000,-2,2,10)\n",
    "v2=vectorGen(10000,-2,2,50)\n",
    "\n",
    "#This loop takes the complex conjugate of the v2 elements before any functions may act on it. \n",
    "for i in range(len(v2)):\n",
    "    v2[i]=v2[i].conjugate()\n",
    "\n",
    "#The resulting times for each method are printed. \n",
    "print(\"The loop took \"+str(loopOuterProduct(v1,v2)[1])+\" seconds to calculate the outer product.\")\n",
    "print(\"The numpy.outer function took \"+str(npOuterProduct(v1,v2)[1])+\" seconds to calculate the outer product\")\n",
    "print(\"The numpy.Einsum function took \"+str(einSum(v1,v2)[1])+\" seconds to calculate the outer product\")"
   ]
  }
 ],
 "metadata": {
  "kernelspec": {
   "display_name": "Python 3",
   "language": "python",
   "name": "python3"
  },
  "language_info": {
   "codemirror_mode": {
    "name": "ipython",
    "version": 3
   },
   "file_extension": ".py",
   "mimetype": "text/x-python",
   "name": "python",
   "nbconvert_exporter": "python",
   "pygments_lexer": "ipython3",
   "version": "3.12.1"
  }
 },
 "nbformat": 4,
 "nbformat_minor": 2
}
